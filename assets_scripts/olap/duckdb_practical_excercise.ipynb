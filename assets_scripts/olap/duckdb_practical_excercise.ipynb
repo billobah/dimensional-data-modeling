{
 "cells": [
  {
   "cell_type": "code",
   "execution_count": 1,
   "id": "7ca5a45a-218b-4258-9744-76d7a1af5121",
   "metadata": {},
   "outputs": [],
   "source": [
    "#importing libraries\n",
    "import duckdb \n",
    "#import pandas as pd"
   ]
  },
  {
   "cell_type": "code",
   "execution_count": null,
   "id": "b3f70a58-141e-49e5-b34f-3227199a81de",
   "metadata": {},
   "outputs": [],
   "source": [
    "#creating a dataframe\n",
    "data = {'employee_id':  ['1', '2'],\n",
    "        'employee_name': ['Bernardo Figeroa', 'Ammie Corrio']\n",
    "       }\n",
    "\n",
    "df = pd.DataFrame(data)\n",
    "df"
   ]
  },
  {
   "cell_type": "code",
   "execution_count": 3,
   "id": "643dc483-43e4-4a1b-bb77-e2c67809fa20",
   "metadata": {},
   "outputs": [
    {
     "data": {
      "text/plain": [
       "┌─────────────┬──────────────────┐\n",
       "│ employee_id │  employee_name   │\n",
       "│   varchar   │     varchar      │\n",
       "├─────────────┼──────────────────┤\n",
       "│ 1           │ Bernardo Figeroa │\n",
       "│ 2           │ Ammie Corrio     │\n",
       "└─────────────┴──────────────────┘"
      ]
     },
     "execution_count": 3,
     "metadata": {},
     "output_type": "execute_result"
    }
   ],
   "source": [
    "#querying the table using duckdb\n",
    "duckdb.sql(\"SELECT * from df\")"
   ]
  },
  {
   "cell_type": "code",
   "execution_count": 2,
   "id": "b7492a5f-85bb-4bd3-a5aa-9c8bdd92930d",
   "metadata": {},
   "outputs": [],
   "source": [
    "# Change the path if you have your sales duckDB somewhere else\n",
    "db = duckdb.connect(r'C:\\Users\\katep\\OneDrive\\Desktop\\DEV-modeling\\assets_scripts\\test.duckdb')"
   ]
  }
 ],
 "metadata": {
  "kernelspec": {
   "display_name": "Python 3 (ipykernel)",
   "language": "python",
   "name": "python3"
  },
  "language_info": {
   "codemirror_mode": {
    "name": "ipython",
    "version": 3
   },
   "file_extension": ".py",
   "mimetype": "text/x-python",
   "name": "python",
   "nbconvert_exporter": "python",
   "pygments_lexer": "ipython3",
   "version": "3.11.7"
  }
 },
 "nbformat": 4,
 "nbformat_minor": 5
}
